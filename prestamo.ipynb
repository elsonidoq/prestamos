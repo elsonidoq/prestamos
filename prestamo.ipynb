{
 "metadata": {
  "name": "",
  "signature": "sha256:1912576c747ae78eab6503cef408e48089e13daee7e78c7e355123d72b675faa"
 },
 "nbformat": 3,
 "nbformat_minor": 0,
 "worksheets": [
  {
   "cells": [
    {
     "cell_type": "markdown",
     "metadata": {},
     "source": [
      "**C\u00f3digo para analizar los prestamos del Banco Ciudad**\n",
      "\n",
      "[\u00c9sta es la descripcion de los prestamos](http://srvdocs2.bancociudad.com.ar/Content/Personas/Prestamos%20Hipotecarios/Ver%20Cuota%20Ciudad%20Vivienda%20con%20acreditaci%C3%B3n%2009_12_14.pdf)"
     ]
    },
    {
     "cell_type": "code",
     "collapsed": false,
     "input": [
      "import seaborn as sns\n",
      "import pandas as pd\n",
      "\n",
      "def compute_fee(tea, payments, total_money):\n",
      "    v = (1+tea)**(-1)\n",
      "    return (1-v) / (1-(v**payments)) * total_money / v\n",
      "\n",
      "def tea2tem(tea):\n",
      "    return ((1 + tea) ** (1/12.0)) - 1 \n",
      "\n",
      "payments = 10\n",
      "tea1 = 0.2314# + 0.00055\n",
      "tea2 = 0.2314\n",
      "\n",
      "payments = 15\n",
      "tea1 = 0.2314\n",
      "tea2 = 0.2682\n",
      "\n",
      "total_money = 850000\n",
      "period1 = 18\n",
      "period2 = payments*12 - period1"
     ],
     "language": "python",
     "metadata": {},
     "outputs": [],
     "prompt_number": 103
    },
    {
     "cell_type": "code",
     "collapsed": false,
     "input": [
      "monthly_payments = payments * 12\n",
      "tem1 = tea2tem(tea1)\n",
      "tem2 = tea2tem(tea2)\n",
      "\n",
      "fee1 = compute_fee(tem1, monthly_payments, total_money)\n",
      "print fee1\n",
      "totales = []\n",
      "interests = []\n",
      "capitals = []\n",
      "rems= []\n",
      "rem = total_money\n",
      "\n",
      "tem = tem1\n",
      "fee = fee1\n",
      "\n",
      "for i in range(monthly_payments):\n",
      "    if i == period1: \n",
      "        tem = tem2\n",
      "        fee2 = fee = compute_fee(tem2, period2, rem)\n",
      "        \n",
      "    interests.append(rem * tem)\n",
      "    totales.append(fee)\n",
      "    \n",
      "    capitals.append( totales[i] - interests[i] )\n",
      "    rem = rem - capitals[i]\n",
      "    rems.append(rem)\n",
      "\n",
      "df = pd.DataFrame({'capitals' : capitals, 'interests' : interests, 'remaining': rems})\n",
      "df['cuota'] = df.capitals + df.interests\n",
      "print df"
     ],
     "language": "python",
     "metadata": {},
     "outputs": [
      {
       "output_type": "stream",
       "stream": "stdout",
       "text": [
        "15558.140555\n",
        "         capitals     interests     remaining         cuota\n",
        "0      685.441589  14872.698966  8.493146e+05  15558.140555\n",
        "1      697.434962  14860.705593  8.486171e+05  15558.140555\n",
        "2      709.638185  14848.502370  8.479075e+05  15558.140555\n",
        "3      722.054933  14836.085622  8.471854e+05  15558.140555\n",
        "4      734.688939  14823.451616  8.464507e+05  15558.140555\n",
        "5      747.544007  14810.596548  8.457032e+05  15558.140555\n",
        "6      760.624003  14797.516552  8.449426e+05  15558.140555\n",
        "7      773.932864  14784.207691  8.441686e+05  15558.140555\n",
        "8      787.474594  14770.665961  8.433812e+05  15558.140555\n",
        "9      801.253268  14756.887287  8.425799e+05  15558.140555\n",
        "10     815.273031  14742.867524  8.417646e+05  15558.140555\n",
        "11     829.538102  14728.602453  8.409351e+05  15558.140555\n",
        "12     844.052773  14714.087782  8.400910e+05  15558.140555\n",
        "13     858.821412  14699.319143  8.392322e+05  15558.140555\n",
        "14     873.848462  14684.292093  8.383584e+05  15558.140555\n",
        "15     889.138444  14669.002111  8.374692e+05  15558.140555\n",
        "16     904.695960  14653.444595  8.365645e+05  15558.140555\n",
        "17     920.525690  14637.614865  8.356440e+05  15558.140555\n",
        "18     704.514976  16710.539575  8.349395e+05  17415.054551\n",
        "19     718.603302  16696.451248  8.342209e+05  17415.054551\n",
        "20     732.973356  16682.081195  8.334879e+05  17415.054551\n",
        "21     747.630770  16667.423781  8.327403e+05  17415.054551\n",
        "22     762.581291  16652.473260  8.319777e+05  17415.054551\n",
        "23     777.830780  16637.223771  8.311999e+05  17415.054551\n",
        "24     793.385217  16621.669334  8.304065e+05  17415.054551\n",
        "25     809.250699  16605.803852  8.295972e+05  17415.054551\n",
        "26     825.433446  16589.621105  8.287718e+05  17415.054551\n",
        "27     841.939803  16573.114748  8.279299e+05  17415.054551\n",
        "28     858.776240  16556.278311  8.270711e+05  17415.054551\n",
        "29     875.949360  16539.105191  8.261951e+05  17415.054551\n",
        "..            ...           ...           ...           ...\n",
        "150   9615.136789   7799.917762  3.804354e+05  17415.054551\n",
        "151   9807.412590   7607.641961  3.706280e+05  17415.054551\n",
        "152  10003.533370   7411.521181  3.606244e+05  17415.054551\n",
        "153  10203.576015   7211.478536  3.504209e+05  17415.054551\n",
        "154  10407.618953   7007.435598  3.400132e+05  17415.054551\n",
        "155  10615.742179   6799.312372  3.293975e+05  17415.054551\n",
        "156  10828.027286   6587.027265  3.185695e+05  17415.054551\n",
        "157  11044.557500   6370.497051  3.075249e+05  17415.054551\n",
        "158  11265.417712   6149.636839  2.962595e+05  17415.054551\n",
        "159  11490.694510   5924.360041  2.847688e+05  17415.054551\n",
        "160  11720.476212   5694.578339  2.730483e+05  17415.054551\n",
        "161  11954.852905   5460.201646  2.610935e+05  17415.054551\n",
        "162  12193.916475   5221.138076  2.488996e+05  17415.054551\n",
        "163  12437.760647   4977.293904  2.364618e+05  17415.054551\n",
        "164  12686.481020   4728.573531  2.237753e+05  17415.054551\n",
        "165  12940.175103   4474.879448  2.108351e+05  17415.054551\n",
        "166  13198.942357   4216.112194  1.976362e+05  17415.054551\n",
        "167  13462.884231   3952.170320  1.841733e+05  17415.054551\n",
        "168  13732.104204   3682.950347  1.704412e+05  17415.054551\n",
        "169  14006.707821   3408.346730  1.564345e+05  17415.054551\n",
        "170  14286.802742   3128.251809  1.421477e+05  17415.054551\n",
        "171  14572.498777   2842.555774  1.275752e+05  17415.054551\n",
        "172  14863.907932   2551.146619  1.127113e+05  17415.054551\n",
        "173  15161.144454   2253.910097  9.755015e+04  17415.054551\n",
        "174  15464.324874   1950.729677  8.208582e+04  17415.054551\n",
        "175  15773.568053   1641.486498  6.631225e+04  17415.054551\n",
        "176  16088.995229   1326.059322  5.022326e+04  17415.054551\n",
        "177  16410.730065   1004.324486  3.381253e+04  17415.054551\n",
        "178  16738.898697    676.155854  1.707363e+04  17415.054551\n",
        "179  17073.629782    341.424769 -4.218236e-08  17415.054551\n",
        "\n",
        "[180 rows x 4 columns]\n"
       ]
      }
     ],
     "prompt_number": 108
    },
    {
     "cell_type": "code",
     "collapsed": false,
     "input": [
      "df.capitals.plot()\n",
      "df.interests.plot()"
     ],
     "language": "python",
     "metadata": {},
     "outputs": [
      {
       "metadata": {},
       "output_type": "pyout",
       "prompt_number": 109,
       "text": [
        "<matplotlib.axes.AxesSubplot at 0x10d5ef190>"
       ]
      },
      {
       "metadata": {},
       "output_type": "display_data",
       "png": "[encoded data removed]",
       "text": [
        "<matplotlib.figure.Figure at 0x10d618590>"
       ]
      }
     ],
     "prompt_number": 109
    },
    {
     "cell_type": "code",
     "collapsed": false,
     "input": [
      "total_payed = df.cuota.sum()\n",
      "print \"you will pay %.02f for %.02f\" % (total_payed, total_money)\n",
      "cft = total_payed / total_money - 1\n",
      "print \"this yields a CFT(E) of %.02f\" % cft"
     ],
     "language": "python",
     "metadata": {},
     "outputs": [
      {
       "output_type": "stream",
       "stream": "stdout",
       "text": [
        "you will pay 3101285.37 for 850000.00\n",
        "this yields a CFT(E) of 2.65\n"
       ]
      }
     ],
     "prompt_number": 110
    },
    {
     "cell_type": "code",
     "collapsed": false,
     "input": [],
     "language": "python",
     "metadata": {},
     "outputs": []
    }
   ],
   "metadata": {}
  }
 ]
}