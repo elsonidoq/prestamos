{
 "metadata": {
  "name": "",
  "signature": "sha256:f296a2727b52ff675c173770fd38cb46713e2780ccb79442fbce1551790aa627"
 },
 "nbformat": 3,
 "nbformat_minor": 0,
 "worksheets": [
  {
   "cells": [
    {
     "cell_type": "code",
     "collapsed": false,
     "input": [
      "import seaborn as sns"
     ],
     "language": "python",
     "metadata": {},
     "outputs": [],
     "prompt_number": 103
    },
    {
     "cell_type": "code",
     "collapsed": false,
     "input": [
      "import pandas as pd\n",
      "\n",
      "def compute_fee(tea, payments, total_money):\n",
      "    v = (1+tea)**(-1)\n",
      "    return (1-v) / (1-(v**payments)) * total_money / v\n",
      "\n",
      "def tea2tem(tea):\n",
      "    return ((1 + tea) ** (1/12.0)) - 1 \n",
      "\n",
      "payments = 10\n",
      "tea1 = 0.2314# + 0.00055\n",
      "tea2 = 0.2314\n",
      "\n",
      "payments = 15\n",
      "tea1 = 0.2314\n",
      "tea2 = 0.2682\n",
      "\n",
      "total_money = 100000\n",
      "period1 = 18\n",
      "period2 = payments*12 - period1"
     ],
     "language": "python",
     "metadata": {},
     "outputs": [],
     "prompt_number": 82
    },
    {
     "cell_type": "code",
     "collapsed": false,
     "input": [
      "monthly_payments = payments * 12\n",
      "tem1 = tea2tem(tea1)\n",
      "tem2 = tea2tem(tea2)\n",
      "\n",
      "fee1 = compute_fee(tem1, monthly_payments, total_money)\n",
      "print fee1\n",
      "totales = []\n",
      "interests = []\n",
      "capitals = []\n",
      "rems= []\n",
      "rem = total_money\n",
      "\n",
      "tem = tem1\n",
      "fee = fee1\n",
      "\n",
      "for i in range(monthly_payments):\n",
      "    if i == period1: \n",
      "        tem = tem2\n",
      "        fee2 = fee = compute_fee(tem2, period2, rem)\n",
      "        \n",
      "    interests.append(rem * tem)\n",
      "    totales.append(fee)\n",
      "    \n",
      "    capitals.append( totales[i] - interests[i] )\n",
      "    rem = rem - capitals[i]\n",
      "    rems.append(rem)\n",
      "\n",
      "df = pd.DataFrame({'capitals' : capitals, 'interests' : interests, 'remaining': rems})\n",
      "df['cuota'] = df.capitals + df.interests\n",
      "print df"
     ],
     "language": "python",
     "metadata": {},
     "outputs": [
      {
       "output_type": "stream",
       "stream": "stdout",
       "text": [
        "1830.36947706\n",
        "        capitals    interests     remaining        cuota\n",
        "0      80.640187  1749.729290  9.991936e+04  1830.369477\n",
        "1      82.051172  1748.318305  9.983731e+04  1830.369477\n",
        "2      83.486845  1746.882632  9.975382e+04  1830.369477\n",
        "3      84.947639  1745.421838  9.966887e+04  1830.369477\n",
        "4      86.433993  1743.935484  9.958244e+04  1830.369477\n",
        "5      87.946354  1742.423123  9.949449e+04  1830.369477\n",
        "6      89.485177  1740.884300  9.940501e+04  1830.369477\n",
        "7      91.050925  1739.318552  9.931396e+04  1830.369477\n",
        "8      92.644070  1737.725407  9.922131e+04  1830.369477\n",
        "9      94.265090  1736.104387  9.912705e+04  1830.369477\n",
        "10     95.914474  1734.455003  9.903113e+04  1830.369477\n",
        "11     97.592718  1732.776759  9.893354e+04  1830.369477\n",
        "12     99.300326  1731.069151  9.883424e+04  1830.369477\n",
        "13    101.037813  1729.331664  9.873320e+04  1830.369477\n",
        "14    102.805701  1727.563776  9.863040e+04  1830.369477\n",
        "15    104.604523  1725.764954  9.852579e+04  1830.369477\n",
        "16    106.434819  1723.934658  9.841936e+04  1830.369477\n",
        "17    108.297140  1722.072337  9.831106e+04  1830.369477\n",
        "18     82.884115  1965.945832  9.822818e+04  2048.829947\n",
        "19     84.541565  1964.288382  9.814364e+04  2048.829947\n",
        "20     86.232159  1962.597788  9.805740e+04  2048.829947\n",
        "21     87.956561  1960.873386  9.796945e+04  2048.829947\n",
        "22     89.715446  1959.114501  9.787973e+04  2048.829947\n",
        "23     91.509504  1957.320444  9.778822e+04  2048.829947\n",
        "24     93.339437  1955.490510  9.769488e+04  2048.829947\n",
        "25     95.205965  1953.623983  9.759968e+04  2048.829947\n",
        "26     97.109817  1951.720130  9.750257e+04  2048.829947\n",
        "27     99.051742  1949.778206  9.740351e+04  2048.829947\n",
        "28    101.032499  1947.797448  9.730248e+04  2048.829947\n",
        "29    103.052866  1945.777081  9.719943e+04  2048.829947\n",
        "..           ...          ...           ...          ...\n",
        "150  1131.192563   917.637384  4.475710e+04  2048.829947\n",
        "151  1153.813246   895.016701  4.360329e+04  2048.829947\n",
        "152  1176.886279   871.943668  4.242640e+04  2048.829947\n",
        "153  1200.420708   848.409239  4.122598e+04  2048.829947\n",
        "154  1224.425759   824.404188  4.000156e+04  2048.829947\n",
        "155  1248.910845   799.919103  3.875265e+04  2048.829947\n",
        "156  1273.885563   774.944384  3.747876e+04  2048.829947\n",
        "157  1299.359706   749.470241  3.617940e+04  2048.829947\n",
        "158  1325.343260   723.486687  3.485406e+04  2048.829947\n",
        "159  1351.846413   696.983534  3.350221e+04  2048.829947\n",
        "160  1378.879554   669.950393  3.212333e+04  2048.829947\n",
        "161  1406.453283   642.376664  3.071688e+04  2048.829947\n",
        "162  1434.578409   614.251538  2.928230e+04  2048.829947\n",
        "163  1463.265958   585.563989  2.781903e+04  2048.829947\n",
        "164  1492.527179   556.302768  2.632651e+04  2048.829947\n",
        "165  1522.373541   526.456406  2.480413e+04  2048.829947\n",
        "166  1552.816748   496.013199  2.325132e+04  2048.829947\n",
        "167  1583.868733   464.961214  2.166745e+04  2048.829947\n",
        "168  1615.541671   433.288276  2.005191e+04  2048.829947\n",
        "169  1647.847979   400.981968  1.840406e+04  2048.829947\n",
        "170  1680.800323   368.029625  1.672326e+04  2048.829947\n",
        "171  1714.411621   334.418326  1.500885e+04  2048.829947\n",
        "172  1748.695051   300.134896  1.326015e+04  2048.829947\n",
        "173  1783.664053   265.165894  1.147649e+04  2048.829947\n",
        "174  1819.332338   229.497609  9.657156e+03  2048.829947\n",
        "175  1855.713889   193.116059  7.801442e+03  2048.829947\n",
        "176  1892.822968   156.006979  5.908619e+03  2048.829947\n",
        "177  1930.674125   118.155822  3.977945e+03  2048.829947\n",
        "178  1969.282200    79.547748  2.008662e+03  2048.829947\n",
        "179  2008.662327    40.167620 -5.005859e-09  2048.829947\n",
        "\n",
        "[180 rows x 4 columns]\n"
       ]
      }
     ],
     "prompt_number": 99
    },
    {
     "cell_type": "code",
     "collapsed": false,
     "input": [
      "df.capitals.plot()\n",
      "df.interests.plot()"
     ],
     "language": "python",
     "metadata": {},
     "outputs": [
      {
       "metadata": {},
       "output_type": "pyout",
       "prompt_number": 104,
       "text": [
        "<matplotlib.axes.AxesSubplot at 0x10d5d93d0>"
       ]
      },
      {
       "metadata": {},
       "output_type": "display_data",
       "png": "[encoded data removed]",
       "text": [
        "<matplotlib.figure.Figure at 0x10d5c7cd0>"
       ]
      }
     ],
     "prompt_number": 104
    },
    {
     "cell_type": "code",
     "collapsed": false,
     "input": [
      "total_payed = df.cuota.sum()\n",
      "print \"you will pay %.02f for %.02f\" % (total_payed, total_money)\n",
      "cft = total_payed / total_money - 1\n",
      "print \"this yields a CFT(E) of %.02f\" % cft"
     ],
     "language": "python",
     "metadata": {},
     "outputs": [
      {
       "output_type": "stream",
       "stream": "stdout",
       "text": [
        "you will pay 364857.10 for 100000.00\n",
        "this yields a CFT(E) of 2.65\n"
       ]
      }
     ],
     "prompt_number": 102
    },
    {
     "cell_type": "code",
     "collapsed": false,
     "input": [],
     "language": "python",
     "metadata": {},
     "outputs": []
    }
   ],
   "metadata": {}
  }
 ]
}